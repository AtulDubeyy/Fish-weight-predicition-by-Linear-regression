{
 "cells": [
  {
   "cell_type": "code",
   "execution_count": 1,
   "metadata": {},
   "outputs": [],
   "source": [
    "import pandas as pd \n",
    "import numpy as np\n",
    "from sklearn import tree\n",
    "from sklearn.preprocessing import LabelEncoder\n",
    "from sklearn.linear_model import LinearRegression\n",
    "from sklearn.model_selection import train_test_split\n",
    "from sklearn.preprocessing import LabelEncoder\n"
   ]
  },
  {
   "cell_type": "code",
   "execution_count": 2,
   "metadata": {},
   "outputs": [],
   "source": [
    "data = pd.read_csv('fish.csv')"
   ]
  },
  {
   "cell_type": "code",
   "execution_count": 3,
   "metadata": {},
   "outputs": [
    {
     "data": {
      "text/html": [
       "<div>\n",
       "<style scoped>\n",
       "    .dataframe tbody tr th:only-of-type {\n",
       "        vertical-align: middle;\n",
       "    }\n",
       "\n",
       "    .dataframe tbody tr th {\n",
       "        vertical-align: top;\n",
       "    }\n",
       "\n",
       "    .dataframe thead th {\n",
       "        text-align: right;\n",
       "    }\n",
       "</style>\n",
       "<table border=\"1\" class=\"dataframe\">\n",
       "  <thead>\n",
       "    <tr style=\"text-align: right;\">\n",
       "      <th></th>\n",
       "      <th>Species</th>\n",
       "      <th>Weight</th>\n",
       "      <th>Length1</th>\n",
       "      <th>Length2</th>\n",
       "      <th>Length3</th>\n",
       "      <th>Height</th>\n",
       "      <th>Width</th>\n",
       "    </tr>\n",
       "  </thead>\n",
       "  <tbody>\n",
       "    <tr>\n",
       "      <th>0</th>\n",
       "      <td>Bream</td>\n",
       "      <td>242.0</td>\n",
       "      <td>23.2</td>\n",
       "      <td>25.4</td>\n",
       "      <td>30.0</td>\n",
       "      <td>11.5200</td>\n",
       "      <td>4.0200</td>\n",
       "    </tr>\n",
       "    <tr>\n",
       "      <th>1</th>\n",
       "      <td>Bream</td>\n",
       "      <td>290.0</td>\n",
       "      <td>24.0</td>\n",
       "      <td>26.3</td>\n",
       "      <td>31.2</td>\n",
       "      <td>12.4800</td>\n",
       "      <td>4.3056</td>\n",
       "    </tr>\n",
       "    <tr>\n",
       "      <th>2</th>\n",
       "      <td>Bream</td>\n",
       "      <td>340.0</td>\n",
       "      <td>23.9</td>\n",
       "      <td>26.5</td>\n",
       "      <td>31.1</td>\n",
       "      <td>12.3778</td>\n",
       "      <td>4.6961</td>\n",
       "    </tr>\n",
       "    <tr>\n",
       "      <th>3</th>\n",
       "      <td>Bream</td>\n",
       "      <td>363.0</td>\n",
       "      <td>26.3</td>\n",
       "      <td>29.0</td>\n",
       "      <td>33.5</td>\n",
       "      <td>12.7300</td>\n",
       "      <td>4.4555</td>\n",
       "    </tr>\n",
       "    <tr>\n",
       "      <th>4</th>\n",
       "      <td>Bream</td>\n",
       "      <td>430.0</td>\n",
       "      <td>26.5</td>\n",
       "      <td>29.0</td>\n",
       "      <td>34.0</td>\n",
       "      <td>12.4440</td>\n",
       "      <td>5.1340</td>\n",
       "    </tr>\n",
       "    <tr>\n",
       "      <th>...</th>\n",
       "      <td>...</td>\n",
       "      <td>...</td>\n",
       "      <td>...</td>\n",
       "      <td>...</td>\n",
       "      <td>...</td>\n",
       "      <td>...</td>\n",
       "      <td>...</td>\n",
       "    </tr>\n",
       "    <tr>\n",
       "      <th>154</th>\n",
       "      <td>Smelt</td>\n",
       "      <td>12.2</td>\n",
       "      <td>11.5</td>\n",
       "      <td>12.2</td>\n",
       "      <td>13.4</td>\n",
       "      <td>2.0904</td>\n",
       "      <td>1.3936</td>\n",
       "    </tr>\n",
       "    <tr>\n",
       "      <th>155</th>\n",
       "      <td>Smelt</td>\n",
       "      <td>13.4</td>\n",
       "      <td>11.7</td>\n",
       "      <td>12.4</td>\n",
       "      <td>13.5</td>\n",
       "      <td>2.4300</td>\n",
       "      <td>1.2690</td>\n",
       "    </tr>\n",
       "    <tr>\n",
       "      <th>156</th>\n",
       "      <td>Smelt</td>\n",
       "      <td>12.2</td>\n",
       "      <td>12.1</td>\n",
       "      <td>13.0</td>\n",
       "      <td>13.8</td>\n",
       "      <td>2.2770</td>\n",
       "      <td>1.2558</td>\n",
       "    </tr>\n",
       "    <tr>\n",
       "      <th>157</th>\n",
       "      <td>Smelt</td>\n",
       "      <td>19.7</td>\n",
       "      <td>13.2</td>\n",
       "      <td>14.3</td>\n",
       "      <td>15.2</td>\n",
       "      <td>2.8728</td>\n",
       "      <td>2.0672</td>\n",
       "    </tr>\n",
       "    <tr>\n",
       "      <th>158</th>\n",
       "      <td>Smelt</td>\n",
       "      <td>19.9</td>\n",
       "      <td>13.8</td>\n",
       "      <td>15.0</td>\n",
       "      <td>16.2</td>\n",
       "      <td>2.9322</td>\n",
       "      <td>1.8792</td>\n",
       "    </tr>\n",
       "  </tbody>\n",
       "</table>\n",
       "<p>159 rows × 7 columns</p>\n",
       "</div>"
      ],
      "text/plain": [
       "    Species  Weight  Length1  Length2  Length3   Height   Width\n",
       "0     Bream   242.0     23.2     25.4     30.0  11.5200  4.0200\n",
       "1     Bream   290.0     24.0     26.3     31.2  12.4800  4.3056\n",
       "2     Bream   340.0     23.9     26.5     31.1  12.3778  4.6961\n",
       "3     Bream   363.0     26.3     29.0     33.5  12.7300  4.4555\n",
       "4     Bream   430.0     26.5     29.0     34.0  12.4440  5.1340\n",
       "..      ...     ...      ...      ...      ...      ...     ...\n",
       "154   Smelt    12.2     11.5     12.2     13.4   2.0904  1.3936\n",
       "155   Smelt    13.4     11.7     12.4     13.5   2.4300  1.2690\n",
       "156   Smelt    12.2     12.1     13.0     13.8   2.2770  1.2558\n",
       "157   Smelt    19.7     13.2     14.3     15.2   2.8728  2.0672\n",
       "158   Smelt    19.9     13.8     15.0     16.2   2.9322  1.8792\n",
       "\n",
       "[159 rows x 7 columns]"
      ]
     },
     "execution_count": 3,
     "metadata": {},
     "output_type": "execute_result"
    }
   ],
   "source": [
    "data"
   ]
  },
  {
   "cell_type": "code",
   "execution_count": 5,
   "metadata": {},
   "outputs": [
    {
     "data": {
      "text/plain": [
       "array([[ 242. ],\n",
       "       [ 290. ],\n",
       "       [ 340. ],\n",
       "       [ 363. ],\n",
       "       [ 430. ],\n",
       "       [ 450. ],\n",
       "       [ 500. ],\n",
       "       [ 390. ],\n",
       "       [ 450. ],\n",
       "       [ 500. ],\n",
       "       [ 475. ],\n",
       "       [ 500. ],\n",
       "       [ 500. ],\n",
       "       [ 340. ],\n",
       "       [ 600. ],\n",
       "       [ 600. ],\n",
       "       [ 700. ],\n",
       "       [ 700. ],\n",
       "       [ 610. ],\n",
       "       [ 650. ],\n",
       "       [ 575. ],\n",
       "       [ 685. ],\n",
       "       [ 620. ],\n",
       "       [ 680. ],\n",
       "       [ 700. ],\n",
       "       [ 725. ],\n",
       "       [ 720. ],\n",
       "       [ 714. ],\n",
       "       [ 850. ],\n",
       "       [1000. ],\n",
       "       [ 920. ],\n",
       "       [ 955. ],\n",
       "       [ 925. ],\n",
       "       [ 975. ],\n",
       "       [ 950. ],\n",
       "       [  40. ],\n",
       "       [  69. ],\n",
       "       [  78. ],\n",
       "       [  87. ],\n",
       "       [ 120. ],\n",
       "       [   0. ],\n",
       "       [ 110. ],\n",
       "       [ 120. ],\n",
       "       [ 150. ],\n",
       "       [ 145. ],\n",
       "       [ 160. ],\n",
       "       [ 140. ],\n",
       "       [ 160. ],\n",
       "       [ 169. ],\n",
       "       [ 161. ],\n",
       "       [ 200. ],\n",
       "       [ 180. ],\n",
       "       [ 290. ],\n",
       "       [ 272. ],\n",
       "       [ 390. ],\n",
       "       [ 270. ],\n",
       "       [ 270. ],\n",
       "       [ 306. ],\n",
       "       [ 540. ],\n",
       "       [ 800. ],\n",
       "       [1000. ],\n",
       "       [  55. ],\n",
       "       [  60. ],\n",
       "       [  90. ],\n",
       "       [ 120. ],\n",
       "       [ 150. ],\n",
       "       [ 140. ],\n",
       "       [ 170. ],\n",
       "       [ 145. ],\n",
       "       [ 200. ],\n",
       "       [ 273. ],\n",
       "       [ 300. ],\n",
       "       [   5.9],\n",
       "       [  32. ],\n",
       "       [  40. ],\n",
       "       [  51.5],\n",
       "       [  70. ],\n",
       "       [ 100. ],\n",
       "       [  78. ],\n",
       "       [  80. ],\n",
       "       [  85. ],\n",
       "       [  85. ],\n",
       "       [ 110. ],\n",
       "       [ 115. ],\n",
       "       [ 125. ],\n",
       "       [ 130. ],\n",
       "       [ 120. ],\n",
       "       [ 120. ],\n",
       "       [ 130. ],\n",
       "       [ 135. ],\n",
       "       [ 110. ],\n",
       "       [ 130. ],\n",
       "       [ 150. ],\n",
       "       [ 145. ],\n",
       "       [ 150. ],\n",
       "       [ 170. ],\n",
       "       [ 225. ],\n",
       "       [ 145. ],\n",
       "       [ 188. ],\n",
       "       [ 180. ],\n",
       "       [ 197. ],\n",
       "       [ 218. ],\n",
       "       [ 300. ],\n",
       "       [ 260. ],\n",
       "       [ 265. ],\n",
       "       [ 250. ],\n",
       "       [ 250. ],\n",
       "       [ 300. ],\n",
       "       [ 320. ],\n",
       "       [ 514. ],\n",
       "       [ 556. ],\n",
       "       [ 840. ],\n",
       "       [ 685. ],\n",
       "       [ 700. ],\n",
       "       [ 700. ],\n",
       "       [ 690. ],\n",
       "       [ 900. ],\n",
       "       [ 650. ],\n",
       "       [ 820. ],\n",
       "       [ 850. ],\n",
       "       [ 900. ],\n",
       "       [1015. ],\n",
       "       [ 820. ],\n",
       "       [1100. ],\n",
       "       [1000. ],\n",
       "       [1100. ],\n",
       "       [1000. ],\n",
       "       [1000. ],\n",
       "       [ 200. ],\n",
       "       [ 300. ],\n",
       "       [ 300. ],\n",
       "       [ 300. ],\n",
       "       [ 430. ],\n",
       "       [ 345. ],\n",
       "       [ 456. ],\n",
       "       [ 510. ],\n",
       "       [ 540. ],\n",
       "       [ 500. ],\n",
       "       [ 567. ],\n",
       "       [ 770. ],\n",
       "       [ 950. ],\n",
       "       [1250. ],\n",
       "       [1600. ],\n",
       "       [1550. ],\n",
       "       [1650. ],\n",
       "       [   6.7],\n",
       "       [   7.5],\n",
       "       [   7. ],\n",
       "       [   9.7],\n",
       "       [   9.8],\n",
       "       [   8.7],\n",
       "       [  10. ],\n",
       "       [   9.9],\n",
       "       [   9.8],\n",
       "       [  12.2],\n",
       "       [  13.4],\n",
       "       [  12.2],\n",
       "       [  19.7],\n",
       "       [  19.9]])"
      ]
     },
     "execution_count": 5,
     "metadata": {},
     "output_type": "execute_result"
    }
   ],
   "source": [
    "x=data.iloc[:,6]\n",
    "y=data.iloc[:,1]\n",
    "x=x.values.reshape(-1,1)\n",
    "y=y.values.reshape(-1,1)\n",
    "y"
   ]
  },
  {
   "cell_type": "code",
   "execution_count": 5,
   "metadata": {},
   "outputs": [
    {
     "data": {
      "text/plain": [
       "(32, 1)"
      ]
     },
     "execution_count": 5,
     "metadata": {},
     "output_type": "execute_result"
    }
   ],
   "source": [
    "train_x,test_x,train_y,test_y=train_test_split(x,y,train_size=127,test_size=32,random_state=0)\n",
    "test_y.shape\n",
    "\n"
   ]
  },
  {
   "cell_type": "code",
   "execution_count": 6,
   "metadata": {},
   "outputs": [
    {
     "data": {
      "text/plain": [
       "LinearRegression(copy_X=True, fit_intercept=True, n_jobs=None, normalize=False)"
      ]
     },
     "execution_count": 6,
     "metadata": {},
     "output_type": "execute_result"
    }
   ],
   "source": [
    "model = LinearRegression()\n",
    "model.fit(train_x,train_y)"
   ]
  },
  {
   "cell_type": "code",
   "execution_count": 7,
   "metadata": {},
   "outputs": [
    {
     "data": {
      "text/plain": [
       "array([[ 441.93602513],\n",
       "       [ 202.5884259 ],\n",
       "       [ 269.36397398],\n",
       "       [ 286.40658173],\n",
       "       [ 745.50188712],\n",
       "       [ 895.27296777],\n",
       "       [ 778.78236247],\n",
       "       [ 322.08339437],\n",
       "       [ 809.84533168],\n",
       "       [ 194.70197258],\n",
       "       [ 206.88037329],\n",
       "       [ 376.21558078],\n",
       "       [ 770.09116901],\n",
       "       [1059.26112415],\n",
       "       [  17.06900014],\n",
       "       [ 122.61513961],\n",
       "       [ 237.67509578],\n",
       "       [ 701.95650426],\n",
       "       [ 235.20722603],\n",
       "       [ 692.29962264],\n",
       "       [  19.26862318],\n",
       "       [ 560.85873395],\n",
       "       [ 212.58508669],\n",
       "       [ 940.87490875],\n",
       "       [  81.23361356],\n",
       "       [ 469.44025463],\n",
       "       [ 602.70522096],\n",
       "       [ 362.98207634],\n",
       "       [ 874.06359444],\n",
       "       [-149.99505186],\n",
       "       [ 627.49121711],\n",
       "       [ 317.64838207]])"
      ]
     },
     "execution_count": 7,
     "metadata": {},
     "output_type": "execute_result"
    }
   ],
   "source": [
    "model.predict(test_x)"
   ]
  },
  {
   "cell_type": "code",
   "execution_count": 8,
   "metadata": {},
   "outputs": [
    {
     "data": {
      "text/plain": [
       "72.68549828814565"
      ]
     },
     "execution_count": 8,
     "metadata": {},
     "output_type": "execute_result"
    }
   ],
   "source": [
    "import sklearn.metrics as metrics\n",
    "metrics.r2_score(test_y,model.predict(test_x))*100"
   ]
  },
  {
   "cell_type": "code",
   "execution_count": 9,
   "metadata": {},
   "outputs": [
    {
     "data": {
      "text/plain": [
       "[<matplotlib.lines.Line2D at 0x1469d7cad88>]"
      ]
     },
     "execution_count": 9,
     "metadata": {},
     "output_type": "execute_result"
    },
    {
     "data": {
      "image/png": "[encoded data removed]",
      "text/plain": [
       "<Figure size 432x288 with 1 Axes>"
      ]
     },
     "metadata": {
      "needs_background": "light"
     },
     "output_type": "display_data"
    }
   ],
   "source": [
    "import matplotlib.pyplot as plt\n",
    "plt.scatter(train_x,train_y,color='green')\n",
    "plt.plot(train_x,model.predict(train_x))"
   ]
  },
  {
   "cell_type": "code",
   "execution_count": 10,
   "metadata": {},
   "outputs": [
    {
     "data": {
      "text/plain": [
       "[<matplotlib.lines.Line2D at 0x1469eefa248>]"
      ]
     },
     "execution_count": 10,
     "metadata": {},
     "output_type": "execute_result"
    },
    {
     "data": {
      "image/png": "[encoded data removed]",
      "text/plain": [
       "<Figure size 432x288 with 1 Axes>"
      ]
     },
     "metadata": {
      "needs_background": "light"
     },
     "output_type": "display_data"
    }
   ],
   "source": [
    "plt.scatter(test_x,test_y,color='green')\n",
    "plt.plot(test_x,model.predict(test_x))"
   ]
  },
  {
   "cell_type": "code",
   "execution_count": 12,
   "metadata": {},
   "outputs": [
    {
     "data": {
      "text/plain": [
       "array([[178.83114108]])"
      ]
     },
     "execution_count": 12,
     "metadata": {},
     "output_type": "execute_result"
    }
   ],
   "source": [
    "model.coef_"
   ]
  },
  {
   "cell_type": "code",
   "execution_count": 14,
   "metadata": {},
   "outputs": [
    {
     "data": {
      "text/plain": [
       "array([-396.78202655])"
      ]
     },
     "execution_count": 14,
     "metadata": {},
     "output_type": "execute_result"
    }
   ],
   "source": [
    "model.intercept_"
   ]
  },
  {
   "cell_type": "code",
   "execution_count": null,
   "metadata": {},
   "outputs": [],
   "source": []
  }
 ],
 "metadata": {
  "kernelspec": {
   "display_name": "Python 3",
   "language": "python",
   "name": "python3"
  },
  "language_info": {
   "codemirror_mode": {
    "name": "ipython",
    "version": 3
   },
   "file_extension": ".py",
   "mimetype": "text/x-python",
   "name": "python",
   "nbconvert_exporter": "python",
   "pygments_lexer": "ipython3",
   "version": "3.7.7"
  }
 },
 "nbformat": 4,
 "nbformat_minor": 4
}
